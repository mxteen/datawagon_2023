{
 "cells": [
  {
   "cell_type": "markdown",
   "metadata": {},
   "source": [
    "# Прогнозирование отправки вагонов в ремонт"
   ]
  },
  {
   "cell_type": "code",
   "execution_count": 1,
   "metadata": {
    "ExecuteTime": {
     "end_time": "2023-10-30T12:12:44.453550500Z",
     "start_time": "2023-10-30T12:12:31.873323700Z"
    }
   },
   "outputs": [],
   "source": [
    "import pandas as pd\n",
    "import numpy as np\n"
   ]
  },
  {
   "cell_type": "code",
   "execution_count": 2,
   "metadata": {},
   "outputs": [],
   "source": [
    "# чтобы добраьтся до папки helpers, в которой лежит metrics_f1.py\n",
    "from os import getcwd\n",
    "import sys\n",
    "sys.path.append('\\\\'.join(getcwd().split('\\\\')[:-1]))\n",
    "from helpers.metrics_f1 import calc_f1_score"
   ]
  },
  {
   "cell_type": "markdown",
   "metadata": {},
   "source": [
    "## Загрузка данных"
   ]
  },
  {
   "cell_type": "code",
   "execution_count": 3,
   "metadata": {
    "pycharm": {
     "name": "#%%\n"
    }
   },
   "outputs": [],
   "source": [
    "path_train = r\"../data/train_1\"\n",
    "# path_train_2 = r\"../data/train_2\""
   ]
  },
  {
   "cell_type": "code",
   "execution_count": 6,
   "metadata": {
    "pycharm": {
     "name": "#%%\n"
    }
   },
   "outputs": [
    {
     "data": {
      "text/html": [
       "<div>\n",
       "<style scoped>\n",
       "    .dataframe tbody tr th:only-of-type {\n",
       "        vertical-align: middle;\n",
       "    }\n",
       "\n",
       "    .dataframe tbody tr th {\n",
       "        vertical-align: top;\n",
       "    }\n",
       "\n",
       "    .dataframe thead th {\n",
       "        text-align: right;\n",
       "    }\n",
       "</style>\n",
       "<table border=\"1\" class=\"dataframe\">\n",
       "  <thead>\n",
       "    <tr style=\"text-align: right;\">\n",
       "      <th></th>\n",
       "      <th>wagnum</th>\n",
       "      <th>month</th>\n",
       "      <th>target_month</th>\n",
       "      <th>target_day</th>\n",
       "    </tr>\n",
       "  </thead>\n",
       "  <tbody>\n",
       "    <tr>\n",
       "      <th>0</th>\n",
       "      <td>33361</td>\n",
       "      <td>2023-01-01</td>\n",
       "      <td>0</td>\n",
       "      <td>0</td>\n",
       "    </tr>\n",
       "    <tr>\n",
       "      <th>1</th>\n",
       "      <td>33364</td>\n",
       "      <td>2023-01-01</td>\n",
       "      <td>0</td>\n",
       "      <td>0</td>\n",
       "    </tr>\n",
       "    <tr>\n",
       "      <th>2</th>\n",
       "      <td>33366</td>\n",
       "      <td>2023-01-01</td>\n",
       "      <td>0</td>\n",
       "      <td>0</td>\n",
       "    </tr>\n",
       "    <tr>\n",
       "      <th>3</th>\n",
       "      <td>33358</td>\n",
       "      <td>2023-01-01</td>\n",
       "      <td>0</td>\n",
       "      <td>0</td>\n",
       "    </tr>\n",
       "    <tr>\n",
       "      <th>4</th>\n",
       "      <td>33349</td>\n",
       "      <td>2023-01-01</td>\n",
       "      <td>0</td>\n",
       "      <td>0</td>\n",
       "    </tr>\n",
       "  </tbody>\n",
       "</table>\n",
       "</div>"
      ],
      "text/plain": [
       "   wagnum      month  target_month  target_day\n",
       "0   33361 2023-01-01             0           0\n",
       "1   33364 2023-01-01             0           0\n",
       "2   33366 2023-01-01             0           0\n",
       "3   33358 2023-01-01             0           0\n",
       "4   33349 2023-01-01             0           0"
      ]
     },
     "execution_count": 6,
     "metadata": {},
     "output_type": "execute_result"
    }
   ],
   "source": [
    "# таргет по прогнозам выбытия вагонов в ПР на месяц и на 10 дней\n",
    "target = pd.read_csv(path_train +'/target/y_train.csv').convert_dtypes()\n",
    "target['month'] = pd.to_datetime(target['month'])  # преобразование в datetime\n",
    "target.head()"
   ]
  },
  {
   "cell_type": "code",
   "execution_count": 7,
   "metadata": {},
   "outputs": [
    {
     "name": "stdout",
     "output_type": "stream",
     "text": [
      "<class 'pandas.core.frame.DataFrame'>\n",
      "RangeIndex: 203853 entries, 0 to 203852\n",
      "Data columns (total 4 columns):\n",
      " #   Column        Non-Null Count   Dtype         \n",
      "---  ------        --------------   -----         \n",
      " 0   wagnum        203853 non-null  Int64         \n",
      " 1   month         203853 non-null  datetime64[ns]\n",
      " 2   target_month  203853 non-null  Int64         \n",
      " 3   target_day    203853 non-null  Int64         \n",
      "dtypes: Int64(3), datetime64[ns](1)\n",
      "memory usage: 6.8 MB\n"
     ]
    }
   ],
   "source": [
    "target.info()"
   ]
  },
  {
   "cell_type": "code",
   "execution_count": 9,
   "metadata": {},
   "outputs": [
    {
     "data": {
      "text/plain": [
       "(Timestamp('2022-08-01 00:00:00'),\n",
       " Timestamp('2023-01-01 00:00:00'),\n",
       " Timedelta('153 days 00:00:00'))"
      ]
     },
     "execution_count": 9,
     "metadata": {},
     "output_type": "execute_result"
    }
   ],
   "source": [
    "# какой временной промежуток\n",
    "target['month'].min(), target['month'].max(), (target['month'].max() - target['month'].min())"
   ]
  },
  {
   "cell_type": "code",
   "execution_count": 10,
   "metadata": {},
   "outputs": [],
   "source": [
    "# разбиваем данные на train и test\n",
    "date_to_predict = pd.to_datetime('2023-01-01')\n",
    "y_train = target[target['month'] < date_to_predict]\n",
    "y_test = target[target['month'] >= date_to_predict]"
   ]
  },
  {
   "cell_type": "code",
   "execution_count": 13,
   "metadata": {},
   "outputs": [
    {
     "data": {
      "text/plain": [
       "(169880, 33973, 0.8333455970724002, 0.16665440292759978)"
      ]
     },
     "execution_count": 13,
     "metadata": {},
     "output_type": "execute_result"
    }
   ],
   "source": [
    "# соотноешение train и test\n",
    "len(y_train), len(y_test), len(y_train) / len(target), len(y_test) / len(target)"
   ]
  },
  {
   "cell_type": "markdown",
   "metadata": {},
   "source": [
    "## Изучение влияния параметров на отправку в ремонт (EDA)\n",
    "\n",
    "Парметры, которые были выдвинуты в результаты мозгового штурма. Опирались на экспертность и здравый смысл. \n",
    "\n",
    "**Технические параметры**\n",
    "* Модель тележки\n",
    "* Поглощающий аппарат\n",
    "* Тип вагона (полувагон, хоппер...)\n",
    "* Производитель вагона (должен быть какой-то относительный прризнак: ведь чем больше произвоишь, тем больше вагонов и ломается)\n",
    "* Грузоподъёмность вагона\n",
    "\n",
    "**Эксплуатационные параметры**\n",
    "* Возраст вагона\n",
    "* Общий пробег вагона\n",
    "* Количество дней с последнего ремонта\n",
    "* Время езды гружёным / порожним\n",
    "* Нагрузка при эксплуатации (срадняя, медианная, максимальная)\n",
    "* Количество ремонтов по каждому виду поломки\n",
    "* Пробег с последнего ремонта\n",
    "* Толщина обода колеса (средняя по всем колёсам)\n",
    "* Высота гребня колеса (средняя по всем колёсам)\n",
    "* Тип вагона: свой, арендованный...\n",
    "* Тип погрузки\n",
    "\n",
    "**Климатические (тоже эксплуатационные)**\n",
    "* Близость к морю\n",
    "* Температура и влажность при эксплуатации вагона"
   ]
  },
  {
   "cell_type": "markdown",
   "metadata": {},
   "source": [
    "### Технические параметры"
   ]
  },
  {
   "cell_type": "code",
   "execution_count": 14,
   "metadata": {},
   "outputs": [
    {
     "data": {
      "text/html": [
       "<div>\n",
       "<style scoped>\n",
       "    .dataframe tbody tr th:only-of-type {\n",
       "        vertical-align: middle;\n",
       "    }\n",
       "\n",
       "    .dataframe tbody tr th {\n",
       "        vertical-align: top;\n",
       "    }\n",
       "\n",
       "    .dataframe thead th {\n",
       "        text-align: right;\n",
       "    }\n",
       "</style>\n",
       "<table border=\"1\" class=\"dataframe\">\n",
       "  <thead>\n",
       "    <tr style=\"text-align: right;\">\n",
       "      <th></th>\n",
       "      <th>wagnum</th>\n",
       "      <th>model</th>\n",
       "      <th>rod_id</th>\n",
       "      <th>gruz</th>\n",
       "      <th>cnsi_gruz_capacity</th>\n",
       "      <th>cnsi_volumek</th>\n",
       "      <th>tara</th>\n",
       "      <th>date_build</th>\n",
       "      <th>srok_sl</th>\n",
       "      <th>zavod_build</th>\n",
       "      <th>date_iskl</th>\n",
       "      <th>cnsi_probeg_dr</th>\n",
       "      <th>cnsi_probeg_kr</th>\n",
       "      <th>kuzov</th>\n",
       "      <th>telega</th>\n",
       "      <th>tormoz</th>\n",
       "      <th>tipvozd</th>\n",
       "      <th>tippogl</th>\n",
       "      <th>norma_km</th>\n",
       "      <th>ownertype</th>\n",
       "    </tr>\n",
       "  </thead>\n",
       "  <tbody>\n",
       "    <tr>\n",
       "      <th>3218</th>\n",
       "      <td>26318</td>\n",
       "      <td>12-600-04</td>\n",
       "      <td>1</td>\n",
       "      <td>682</td>\n",
       "      <td>682</td>\n",
       "      <td>85.0</td>\n",
       "      <td>240</td>\n",
       "      <td>1992-12-25</td>\n",
       "      <td>2022-04-27</td>\n",
       "      <td>5</td>\n",
       "      <td>2023-02-16</td>\n",
       "      <td>160</td>\n",
       "      <td>160</td>\n",
       "      <td>2</td>\n",
       "      <td>9</td>\n",
       "      <td>3</td>\n",
       "      <td>6</td>\n",
       "      <td>11</td>\n",
       "      <td>110000</td>\n",
       "      <td>0</td>\n",
       "    </tr>\n",
       "    <tr>\n",
       "      <th>19128</th>\n",
       "      <td>28344</td>\n",
       "      <td>12-132</td>\n",
       "      <td>1</td>\n",
       "      <td>700</td>\n",
       "      <td>700</td>\n",
       "      <td>88.0</td>\n",
       "      <td>240</td>\n",
       "      <td>2003-08-12</td>\n",
       "      <td>2024-12-24</td>\n",
       "      <td>0</td>\n",
       "      <td>2022-12-14</td>\n",
       "      <td>110</td>\n",
       "      <td>160</td>\n",
       "      <td>2</td>\n",
       "      <td>9</td>\n",
       "      <td>2</td>\n",
       "      <td>1</td>\n",
       "      <td>12</td>\n",
       "      <td>0</td>\n",
       "      <td>0</td>\n",
       "    </tr>\n",
       "    <tr>\n",
       "      <th>21526</th>\n",
       "      <td>8099</td>\n",
       "      <td>11-286</td>\n",
       "      <td>0</td>\n",
       "      <td>670</td>\n",
       "      <td>670</td>\n",
       "      <td>138.0</td>\n",
       "      <td>270</td>\n",
       "      <td>1995-08-31</td>\n",
       "      <td>2027-10-01</td>\n",
       "      <td>1</td>\n",
       "      <td>NaT</td>\n",
       "      <td>110</td>\n",
       "      <td>160</td>\n",
       "      <td>2</td>\n",
       "      <td>9</td>\n",
       "      <td>2</td>\n",
       "      <td>1</td>\n",
       "      <td>1</td>\n",
       "      <td>160000</td>\n",
       "      <td>1</td>\n",
       "    </tr>\n",
       "    <tr>\n",
       "      <th>32353</th>\n",
       "      <td>33350</td>\n",
       "      <td>12-9850-02</td>\n",
       "      <td>1</td>\n",
       "      <td>750</td>\n",
       "      <td>750</td>\n",
       "      <td>90.0</td>\n",
       "      <td>248</td>\n",
       "      <td>2014-10-27</td>\n",
       "      <td>2047-02-05</td>\n",
       "      <td>19</td>\n",
       "      <td>NaT</td>\n",
       "      <td>250</td>\n",
       "      <td>500</td>\n",
       "      <td>2</td>\n",
       "      <td>11</td>\n",
       "      <td>2</td>\n",
       "      <td>7</td>\n",
       "      <td>12</td>\n",
       "      <td>250000</td>\n",
       "      <td>1</td>\n",
       "    </tr>\n",
       "    <tr>\n",
       "      <th>81</th>\n",
       "      <td>5308</td>\n",
       "      <td>11-276</td>\n",
       "      <td>0</td>\n",
       "      <td>680</td>\n",
       "      <td>680</td>\n",
       "      <td>122.0</td>\n",
       "      <td>260</td>\n",
       "      <td>1995-09-17</td>\n",
       "      <td>2027-09-28</td>\n",
       "      <td>1</td>\n",
       "      <td>NaT</td>\n",
       "      <td>110</td>\n",
       "      <td>160</td>\n",
       "      <td>2</td>\n",
       "      <td>9</td>\n",
       "      <td>2</td>\n",
       "      <td>1</td>\n",
       "      <td>11</td>\n",
       "      <td>160000</td>\n",
       "      <td>1</td>\n",
       "    </tr>\n",
       "  </tbody>\n",
       "</table>\n",
       "</div>"
      ],
      "text/plain": [
       "       wagnum       model  rod_id  gruz  cnsi_gruz_capacity  cnsi_volumek  \\\n",
       "3218    26318   12-600-04       1   682                 682          85.0   \n",
       "19128   28344      12-132       1   700                 700          88.0   \n",
       "21526    8099      11-286       0   670                 670         138.0   \n",
       "32353   33350  12-9850-02       1   750                 750          90.0   \n",
       "81       5308      11-276       0   680                 680         122.0   \n",
       "\n",
       "       tara date_build    srok_sl  zavod_build  date_iskl  cnsi_probeg_dr  \\\n",
       "3218    240 1992-12-25 2022-04-27            5 2023-02-16             160   \n",
       "19128   240 2003-08-12 2024-12-24            0 2022-12-14             110   \n",
       "21526   270 1995-08-31 2027-10-01            1        NaT             110   \n",
       "32353   248 2014-10-27 2047-02-05           19        NaT             250   \n",
       "81      260 1995-09-17 2027-09-28            1        NaT             110   \n",
       "\n",
       "       cnsi_probeg_kr  kuzov  telega  tormoz tipvozd  tippogl  norma_km  \\\n",
       "3218              160      2       9       3       6       11    110000   \n",
       "19128             160      2       9       2       1       12         0   \n",
       "21526             160      2       9       2       1        1    160000   \n",
       "32353             500      2      11       2       7       12    250000   \n",
       "81                160      2       9       2       1       11    160000   \n",
       "\n",
       "       ownertype  \n",
       "3218           0  \n",
       "19128          0  \n",
       "21526          1  \n",
       "32353          1  \n",
       "81             1  "
      ]
     },
     "execution_count": 14,
     "metadata": {},
     "output_type": "execute_result"
    }
   ],
   "source": [
    "# Данные по характеристикам вагона\n",
    "wag_params = pd.read_parquet(path_train + '/wag_params.parquet').convert_dtypes()\n",
    "wag_params.head()"
   ]
  },
  {
   "cell_type": "markdown",
   "metadata": {},
   "source": [
    "\n",
    "|Переменная | расшифровка|\n",
    "-------------------------\n",
    "|wagnum| Номер вагона|\n",
    "\n",
    "ownertype| Признак передачи вагона в аренду (1-собст, 2-арендованный, 3-инвентарный)\n",
    "model| модель вагона. Соответствует справочнику Классификатор моделей грузовых вагонов\n",
    "rod_id| Тип РПС\n",
    "gruz| грузоподъемность (в центнерах)\n",
    "cnsi_gruz_capacity| Предельная грузоподъёмность\n",
    "cnsi_volumek| Объём кузова\n",
    "tara| Масса тары в центнерах\n",
    "date_build| дата постройки\n",
    "srok_sl| дата окончания срока службы\n",
    "zavod_build| завод постройки. Соответствует справочнику условных кодов предприятий IC00.VAG_UKP\n",
    "cnsi_probeg_dr| Норма пробега после ДР в тыс. км\n",
    "cnsi_probeg_kr| Норма пробега после КР в тыс. км\n",
    "kuzov| материал кузова\n",
    "telega| код модели тележки\n",
    "tormoz| Тип тормоза\n",
    "tipvozd| Тип воздухораспределителя\n",
    "tippogl| Тип поглощающего аппарата\n",
    "norma_km| Межремонтный норматив пробега (<> 0, если вагон на пробеге)\n",
    "new_wagnum| Новый номер вагона\n",
    "oldnum| Старый номер вагона\n"
   ]
  },
  {
   "cell_type": "code",
   "execution_count": 8,
   "metadata": {},
   "outputs": [
    {
     "data": {
      "text/html": [
       "<div>\n",
       "<style scoped>\n",
       "    .dataframe tbody tr th:only-of-type {\n",
       "        vertical-align: middle;\n",
       "    }\n",
       "\n",
       "    .dataframe tbody tr th {\n",
       "        vertical-align: top;\n",
       "    }\n",
       "\n",
       "    .dataframe thead th {\n",
       "        text-align: right;\n",
       "    }\n",
       "</style>\n",
       "<table border=\"1\" class=\"dataframe\">\n",
       "  <thead>\n",
       "    <tr style=\"text-align: right;\">\n",
       "      <th></th>\n",
       "      <th>wagnum</th>\n",
       "      <th>model</th>\n",
       "      <th>rod_id</th>\n",
       "      <th>gruz</th>\n",
       "      <th>cnsi_gruz_capacity</th>\n",
       "      <th>cnsi_volumek</th>\n",
       "      <th>tara</th>\n",
       "      <th>date_build</th>\n",
       "      <th>srok_sl</th>\n",
       "      <th>zavod_build</th>\n",
       "      <th>...</th>\n",
       "      <th>telega</th>\n",
       "      <th>tormoz</th>\n",
       "      <th>tipvozd</th>\n",
       "      <th>tippogl</th>\n",
       "      <th>norma_km</th>\n",
       "      <th>ownertype</th>\n",
       "      <th>month</th>\n",
       "      <th>target_month</th>\n",
       "      <th>target_day</th>\n",
       "      <th>month_dt</th>\n",
       "    </tr>\n",
       "  </thead>\n",
       "  <tbody>\n",
       "    <tr>\n",
       "      <th>0</th>\n",
       "      <td>26318</td>\n",
       "      <td>12-600-04</td>\n",
       "      <td>1</td>\n",
       "      <td>682</td>\n",
       "      <td>682</td>\n",
       "      <td>85.0</td>\n",
       "      <td>240</td>\n",
       "      <td>1992-12-25</td>\n",
       "      <td>2022-04-27</td>\n",
       "      <td>5</td>\n",
       "      <td>...</td>\n",
       "      <td>9</td>\n",
       "      <td>3</td>\n",
       "      <td>6</td>\n",
       "      <td>11</td>\n",
       "      <td>110000</td>\n",
       "      <td>0</td>\n",
       "      <td>2022-08-01</td>\n",
       "      <td>1</td>\n",
       "      <td>0</td>\n",
       "      <td>2022-08-01</td>\n",
       "    </tr>\n",
       "    <tr>\n",
       "      <th>1</th>\n",
       "      <td>26318</td>\n",
       "      <td>12-600-04</td>\n",
       "      <td>1</td>\n",
       "      <td>682</td>\n",
       "      <td>682</td>\n",
       "      <td>85.0</td>\n",
       "      <td>240</td>\n",
       "      <td>1992-12-25</td>\n",
       "      <td>2022-04-27</td>\n",
       "      <td>5</td>\n",
       "      <td>...</td>\n",
       "      <td>9</td>\n",
       "      <td>3</td>\n",
       "      <td>6</td>\n",
       "      <td>11</td>\n",
       "      <td>110000</td>\n",
       "      <td>0</td>\n",
       "      <td>2022-09-01</td>\n",
       "      <td>0</td>\n",
       "      <td>0</td>\n",
       "      <td>2022-09-01</td>\n",
       "    </tr>\n",
       "    <tr>\n",
       "      <th>2</th>\n",
       "      <td>26318</td>\n",
       "      <td>12-600-04</td>\n",
       "      <td>1</td>\n",
       "      <td>682</td>\n",
       "      <td>682</td>\n",
       "      <td>85.0</td>\n",
       "      <td>240</td>\n",
       "      <td>1992-12-25</td>\n",
       "      <td>2022-04-27</td>\n",
       "      <td>5</td>\n",
       "      <td>...</td>\n",
       "      <td>9</td>\n",
       "      <td>3</td>\n",
       "      <td>6</td>\n",
       "      <td>11</td>\n",
       "      <td>110000</td>\n",
       "      <td>0</td>\n",
       "      <td>2022-10-01</td>\n",
       "      <td>0</td>\n",
       "      <td>0</td>\n",
       "      <td>2022-10-01</td>\n",
       "    </tr>\n",
       "    <tr>\n",
       "      <th>3</th>\n",
       "      <td>26318</td>\n",
       "      <td>12-600-04</td>\n",
       "      <td>1</td>\n",
       "      <td>682</td>\n",
       "      <td>682</td>\n",
       "      <td>85.0</td>\n",
       "      <td>240</td>\n",
       "      <td>1992-12-25</td>\n",
       "      <td>2022-04-27</td>\n",
       "      <td>5</td>\n",
       "      <td>...</td>\n",
       "      <td>9</td>\n",
       "      <td>3</td>\n",
       "      <td>6</td>\n",
       "      <td>11</td>\n",
       "      <td>110000</td>\n",
       "      <td>0</td>\n",
       "      <td>2022-11-01</td>\n",
       "      <td>0</td>\n",
       "      <td>0</td>\n",
       "      <td>2022-11-01</td>\n",
       "    </tr>\n",
       "    <tr>\n",
       "      <th>4</th>\n",
       "      <td>26318</td>\n",
       "      <td>12-600-04</td>\n",
       "      <td>1</td>\n",
       "      <td>682</td>\n",
       "      <td>682</td>\n",
       "      <td>85.0</td>\n",
       "      <td>240</td>\n",
       "      <td>1992-12-25</td>\n",
       "      <td>2022-04-27</td>\n",
       "      <td>5</td>\n",
       "      <td>...</td>\n",
       "      <td>9</td>\n",
       "      <td>3</td>\n",
       "      <td>6</td>\n",
       "      <td>11</td>\n",
       "      <td>110000</td>\n",
       "      <td>0</td>\n",
       "      <td>2022-12-01</td>\n",
       "      <td>0</td>\n",
       "      <td>0</td>\n",
       "      <td>2022-12-01</td>\n",
       "    </tr>\n",
       "  </tbody>\n",
       "</table>\n",
       "<p>5 rows × 24 columns</p>\n",
       "</div>"
      ],
      "text/plain": [
       "   wagnum      model  rod_id  gruz  cnsi_gruz_capacity  cnsi_volumek  tara  \\\n",
       "0   26318  12-600-04       1   682                 682          85.0   240   \n",
       "1   26318  12-600-04       1   682                 682          85.0   240   \n",
       "2   26318  12-600-04       1   682                 682          85.0   240   \n",
       "3   26318  12-600-04       1   682                 682          85.0   240   \n",
       "4   26318  12-600-04       1   682                 682          85.0   240   \n",
       "\n",
       "  date_build    srok_sl  zavod_build  ... telega  tormoz  tipvozd  tippogl  \\\n",
       "0 1992-12-25 2022-04-27            5  ...      9       3        6       11   \n",
       "1 1992-12-25 2022-04-27            5  ...      9       3        6       11   \n",
       "2 1992-12-25 2022-04-27            5  ...      9       3        6       11   \n",
       "3 1992-12-25 2022-04-27            5  ...      9       3        6       11   \n",
       "4 1992-12-25 2022-04-27            5  ...      9       3        6       11   \n",
       "\n",
       "   norma_km  ownertype       month  target_month  target_day   month_dt  \n",
       "0    110000          0  2022-08-01             1           0 2022-08-01  \n",
       "1    110000          0  2022-09-01             0           0 2022-09-01  \n",
       "2    110000          0  2022-10-01             0           0 2022-10-01  \n",
       "3    110000          0  2022-11-01             0           0 2022-11-01  \n",
       "4    110000          0  2022-12-01             0           0 2022-12-01  \n",
       "\n",
       "[5 rows x 24 columns]"
      ]
     },
     "execution_count": 8,
     "metadata": {},
     "output_type": "execute_result"
    }
   ],
   "source": [
    "# датафрейм с техническими характеристиками вагона и таргетами\n",
    "df_tech = pd.merge(left=wag_params, right=target, how='inner', \n",
    "                   left_on='wagnum', right_on='wagnum')\n",
    "df_tech.head()"
   ]
  },
  {
   "cell_type": "code",
   "execution_count": 11,
   "metadata": {},
   "outputs": [
    {
     "name": "stdout",
     "output_type": "stream",
     "text": [
      "<class 'pandas.core.frame.DataFrame'>\n",
      "Int64Index: 33977 entries, 3218 to 33707\n",
      "Data columns (total 20 columns):\n",
      " #   Column              Non-Null Count  Dtype         \n",
      "---  ------              --------------  -----         \n",
      " 0   wagnum              33977 non-null  Int64         \n",
      " 1   model               33977 non-null  string        \n",
      " 2   rod_id              33977 non-null  Int64         \n",
      " 3   gruz                33977 non-null  Int64         \n",
      " 4   cnsi_gruz_capacity  33977 non-null  Int64         \n",
      " 5   cnsi_volumek        33977 non-null  float64       \n",
      " 6   tara                33977 non-null  Int64         \n",
      " 7   date_build          33977 non-null  datetime64[ns]\n",
      " 8   srok_sl             33977 non-null  datetime64[ns]\n",
      " 9   zavod_build         33977 non-null  Int64         \n",
      " 10  date_iskl           116 non-null    datetime64[ns]\n",
      " 11  cnsi_probeg_dr      33977 non-null  Int64         \n",
      " 12  cnsi_probeg_kr      33977 non-null  Int64         \n",
      " 13  kuzov               33977 non-null  Int64         \n",
      " 14  telega              33977 non-null  Int64         \n",
      " 15  tormoz              33977 non-null  Int64         \n",
      " 16  tipvozd             33977 non-null  string        \n",
      " 17  tippogl             33918 non-null  Int64         \n",
      " 18  norma_km            33977 non-null  Int64         \n",
      " 19  ownertype           33977 non-null  Int64         \n",
      "dtypes: Int64(14), datetime64[ns](3), float64(1), string(2)\n",
      "memory usage: 5.9 MB\n"
     ]
    }
   ],
   "source": [
    "wag_params.info()"
   ]
  },
  {
   "cell_type": "code",
   "execution_count": 13,
   "metadata": {},
   "outputs": [
    {
     "name": "stdout",
     "output_type": "stream",
     "text": [
      "<class 'pandas.core.frame.DataFrame'>\n",
      "RangeIndex: 203853 entries, 0 to 203852\n",
      "Data columns (total 5 columns):\n",
      " #   Column        Non-Null Count   Dtype         \n",
      "---  ------        --------------   -----         \n",
      " 0   wagnum        203853 non-null  Int64         \n",
      " 1   month         203853 non-null  string        \n",
      " 2   target_month  203853 non-null  Int64         \n",
      " 3   target_day    203853 non-null  Int64         \n",
      " 4   month_dt      203853 non-null  datetime64[ns]\n",
      "dtypes: Int64(3), datetime64[ns](1), string(1)\n",
      "memory usage: 8.4 MB\n"
     ]
    }
   ],
   "source": [
    "target.info()"
   ]
  },
  {
   "cell_type": "code",
   "execution_count": 10,
   "metadata": {},
   "outputs": [
    {
     "name": "stdout",
     "output_type": "stream",
     "text": [
      "<class 'pandas.core.frame.DataFrame'>\n",
      "Int64Index: 203853 entries, 0 to 203852\n",
      "Data columns (total 24 columns):\n",
      " #   Column              Non-Null Count   Dtype         \n",
      "---  ------              --------------   -----         \n",
      " 0   wagnum              203853 non-null  Int64         \n",
      " 1   model               203853 non-null  string        \n",
      " 2   rod_id              203853 non-null  Int64         \n",
      " 3   gruz                203853 non-null  Int64         \n",
      " 4   cnsi_gruz_capacity  203853 non-null  Int64         \n",
      " 5   cnsi_volumek        203853 non-null  float64       \n",
      " 6   tara                203853 non-null  Int64         \n",
      " 7   date_build          203853 non-null  datetime64[ns]\n",
      " 8   srok_sl             203853 non-null  datetime64[ns]\n",
      " 9   zavod_build         203853 non-null  Int64         \n",
      " 10  date_iskl           694 non-null     datetime64[ns]\n",
      " 11  cnsi_probeg_dr      203853 non-null  Int64         \n",
      " 12  cnsi_probeg_kr      203853 non-null  Int64         \n",
      " 13  kuzov               203853 non-null  Int64         \n",
      " 14  telega              203853 non-null  Int64         \n",
      " 15  tormoz              203853 non-null  Int64         \n",
      " 16  tipvozd             203853 non-null  string        \n",
      " 17  tippogl             203499 non-null  Int64         \n",
      " 18  norma_km            203853 non-null  Int64         \n",
      " 19  ownertype           203853 non-null  Int64         \n",
      " 20  month               203853 non-null  string        \n",
      " 21  target_month        203853 non-null  Int64         \n",
      " 22  target_day          203853 non-null  Int64         \n",
      " 23  month_dt            203853 non-null  datetime64[ns]\n",
      "dtypes: Int64(16), datetime64[ns](4), float64(1), string(3)\n",
      "memory usage: 52.0 MB\n"
     ]
    }
   ],
   "source": [
    "df_tech.info()"
   ]
  },
  {
   "cell_type": "markdown",
   "metadata": {},
   "source": [
    "####  Модель вагона"
   ]
  },
  {
   "cell_type": "markdown",
   "metadata": {},
   "source": [
    "`model`"
   ]
  },
  {
   "cell_type": "code",
   "execution_count": 9,
   "metadata": {},
   "outputs": [],
   "source": [
    "wagon_model = df_tech.groupby(by='model').aggregate({\n",
    "    'target_month': ['sum', 'count'],\n",
    "    'target_day': ['sum', 'count']\n",
    "}).reset_index()\n",
    "\n",
    "# более понятные заголовки таблицы, избавляемся от MiltiIndex\n",
    "wagon_model.columns = wagon_model.columns.map('_'.join)"
   ]
  },
  {
   "cell_type": "code",
   "execution_count": null,
   "metadata": {},
   "outputs": [],
   "source": [
    "# расчёт относительной частоты отправки в ремонт\n",
    "wagon_model['monthly_freq'] = wagon_model['target_month_sum'] / wagon_model['target_month_count']\n",
    "wagon_model['daily_freq'] = wagon_model['target_day_sum'] / wagon_model['target_day_count']"
   ]
  },
  {
   "cell_type": "code",
   "execution_count": null,
   "metadata": {},
   "outputs": [],
   "source": [
    "# топ-15 моделей по частоте отправке на ремонт на месячном горизонте\n",
    "top15_month = wagon_model.sort_values(by='monthly_freq', ascending=False)\\\n",
    "    [['model_', 'monthly_freq', 'target_month_count']].head(15)\n",
    "top15_month"
   ]
  },
  {
   "cell_type": "code",
   "execution_count": null,
   "metadata": {},
   "outputs": [],
   "source": [
    "# топ-15 моделей по частоте отправке на ремонт на 10-дневном горизонте\n",
    "top15_10day = wagon_model.sort_values(by='daily_freq', ascending=False)\\\n",
    "    [['model_', 'daily_freq', 'target_day_count']].head(15)\n",
    "top15_10day"
   ]
  },
  {
   "cell_type": "code",
   "execution_count": null,
   "metadata": {},
   "outputs": [],
   "source": [
    "# Есть ли общие лидеры и по 10 дневным и месячным - да\n",
    "set.intersection(set(top15_10day['model_']), set(top15_month['model_']))"
   ]
  },
  {
   "cell_type": "markdown",
   "metadata": {},
   "source": [
    "**Выводы**\n",
    "1. Модель вагона может оказаться важным фактором\n",
    "2. Модель может быть использована в качестве метафактора для получения другого фактора - относительная частота ремонтов для модели вагона"
   ]
  },
  {
   "cell_type": "markdown",
   "metadata": {},
   "source": [
    "#### Тип вагона"
   ]
  },
  {
   "cell_type": "code",
   "execution_count": null,
   "metadata": {},
   "outputs": [],
   "source": [
    "# какие есть модели вагонов\n",
    "df_tech['model'].unique()"
   ]
  },
  {
   "cell_type": "markdown",
   "metadata": {},
   "source": [
    "Из моделей можно вытащить тип. Есть система маркировки моделей:\n",
    "* `11` - крытый вагон\n",
    "* `12` - полувагон\n",
    "* `Р-..` - крытый вагон\n",
    "\n",
    "https://vagon.by/railcars/list/"
   ]
  },
  {
   "cell_type": "code",
   "execution_count": null,
   "metadata": {},
   "outputs": [],
   "source": [
    "df_tech['type'] = df_tech['model'].apply(lambda x: x[:2])\n",
    "df_tech['type_readable'] = df_tech['type'].apply(lambda x: 'Полувагон' if x == '12' else 'Крытый')"
   ]
  },
  {
   "cell_type": "code",
   "execution_count": null,
   "metadata": {},
   "outputs": [],
   "source": [
    "wagon_type = df_tech.groupby(by='type_readable').aggregate({\n",
    "    'target_month': ['sum', 'count'],\n",
    "    'target_day': ['sum', 'count']\n",
    "}).reset_index()\n",
    "\n",
    "# более понятные заголовки таблицы, избавляемся от MiltiIndex\n",
    "wagon_type.columns = wagon_type.columns.map('_'.join)\n",
    "\n",
    "# расчёт относительной частоты отправки в ремонт\n",
    "wagon_type['monthly_freq'] = wagon_type['target_month_sum'] / wagon_type['target_month_count']\n",
    "wagon_type['daily_freq'] = wagon_type['target_day_sum'] / wagon_type['target_day_count']"
   ]
  },
  {
   "cell_type": "code",
   "execution_count": null,
   "metadata": {},
   "outputs": [],
   "source": [
    "wagon_type"
   ]
  },
  {
   "cell_type": "markdown",
   "metadata": {},
   "source": [
    "**Выводы**\n",
    "1. Тип вагона, добытый из номера модели, может быть хорошим фактором: полувагоны отправляются на ремонт гораздо чаще крытых вагонов.  "
   ]
  },
  {
   "cell_type": "markdown",
   "metadata": {},
   "source": [
    "####  Модель тележки"
   ]
  },
  {
   "cell_type": "code",
   "execution_count": null,
   "metadata": {},
   "outputs": [],
   "source": []
  },
  {
   "cell_type": "markdown",
   "metadata": {},
   "source": [
    "####  Грузоподъёмность вагона"
   ]
  },
  {
   "cell_type": "code",
   "execution_count": null,
   "metadata": {},
   "outputs": [],
   "source": []
  },
  {
   "cell_type": "code",
   "execution_count": null,
   "metadata": {},
   "outputs": [],
   "source": []
  },
  {
   "cell_type": "markdown",
   "metadata": {},
   "source": [
    "#### Поглощающий аппарат"
   ]
  },
  {
   "cell_type": "code",
   "execution_count": null,
   "metadata": {},
   "outputs": [],
   "source": []
  },
  {
   "cell_type": "code",
   "execution_count": null,
   "metadata": {},
   "outputs": [],
   "source": []
  },
  {
   "cell_type": "markdown",
   "metadata": {},
   "source": [
    "#### Материал кузова"
   ]
  },
  {
   "cell_type": "code",
   "execution_count": null,
   "metadata": {},
   "outputs": [],
   "source": []
  },
  {
   "cell_type": "code",
   "execution_count": null,
   "metadata": {},
   "outputs": [],
   "source": []
  },
  {
   "cell_type": "code",
   "execution_count": null,
   "metadata": {},
   "outputs": [],
   "source": []
  },
  {
   "cell_type": "markdown",
   "metadata": {},
   "source": [
    "####  Производитель вагона\n",
    "Должен быть какой-то относительный прризнак: ведь чем больше произвоишь, тем больше вагонов и ломается)"
   ]
  },
  {
   "cell_type": "code",
   "execution_count": null,
   "metadata": {},
   "outputs": [],
   "source": []
  },
  {
   "cell_type": "code",
   "execution_count": null,
   "metadata": {},
   "outputs": [],
   "source": []
  },
  {
   "cell_type": "code",
   "execution_count": null,
   "metadata": {},
   "outputs": [],
   "source": []
  },
  {
   "cell_type": "code",
   "execution_count": null,
   "metadata": {},
   "outputs": [],
   "source": []
  },
  {
   "cell_type": "code",
   "execution_count": null,
   "metadata": {},
   "outputs": [],
   "source": [
    "%%time\n",
    "\n",
    "# ---------------------------------- X ----------------------------------------\n",
    "\n",
    "# данные по дислокации\n",
    "dislok = pd.read_parquet(path_train + '/dislok_wagons.parquet').convert_dtypes()\n",
    "\n",
    "# данные по текущим ремонтам\n",
    "pr_rem = pd.read_parquet(path_train + '/pr_rems.parquet').convert_dtypes()\n",
    "\n",
    "# список вагонов с остаточным пробегом на момент прогноза\n",
    "wag_prob = pd.read_parquet(path_train + '/wagons_probeg_ownersip.parquet').convert_dtypes()\n",
    "\n",
    "\n",
    "\n",
    "# Справочник станций\n",
    "stations = pd.read_parquet(path_train + '/stations.parquet').convert_dtypes()\n",
    "\n",
    "# текущие ремонты вагонов\n",
    "tr_rem = pd.read_parquet(path_train + '/tr_rems.parquet').convert_dtypes()\n",
    "\n",
    "###############################################################################\n",
    "# --------------------------------- y  ----------------------------------------"
   ]
  },
  {
   "cell_type": "code",
   "execution_count": null,
   "metadata": {},
   "outputs": [],
   "source": []
  },
  {
   "cell_type": "code",
   "execution_count": null,
   "metadata": {
    "pycharm": {
     "name": "#%%\n"
    }
   },
   "outputs": [],
   "source": [
    "wag_param = wag_param.drop_duplicates(subset='wagnum', keep='last')# у вагонов могут меняться параметры, поэтмоу номер дублируется. В данной модели это фактор не учитывается"
   ]
  },
  {
   "cell_type": "code",
   "execution_count": null,
   "metadata": {
    "pycharm": {
     "name": "#%%\n"
    }
   },
   "outputs": [],
   "source": [
    "month_to_predict = pd.to_datetime('2022-12-01')"
   ]
  },
  {
   "cell_type": "code",
   "execution_count": null,
   "metadata": {
    "pycharm": {
     "name": "#%%\n"
    }
   },
   "outputs": [],
   "source": [
    "target.month = pd.to_datetime(target.month)\n",
    "target = target[target.month == month_to_predict][['wagnum','target_month','target_day']]"
   ]
  },
  {
   "cell_type": "code",
   "execution_count": null,
   "metadata": {
    "pycharm": {
     "name": "#%%\n"
    }
   },
   "outputs": [],
   "source": [
    "target.target_month.sum(), target.target_day.sum()"
   ]
  },
  {
   "cell_type": "markdown",
   "metadata": {},
   "source": [
    "# Наивная модель"
   ]
  },
  {
   "cell_type": "markdown",
   "metadata": {},
   "source": [
    "Наивная модель будет построена на правилах с использованием минимального набора данных, без применения Ml.\n",
    "\n",
    "Реальный процесс выглядит следующим образом - в начале месяца берется срез по парку по всем вагонам, за ремонт которых несёт ответственность ПГК. Для выбранных вагонов требуется установить, какие из них будут отремонтированы в текущем месяце. Данная информация помогает планировать нагрузку на вагоно-ремонтное предприятие(ВРП). Вторая модель определяет критичные вагоны, которые будут отправлены в ремонт в первую очередь( в ближайшие 10 дней). Это помогает фокусировать внимание диспетчеров.\n",
    "\n",
    "Основными критериями по которым вагон отправляется в плановый ремонт - является его остаточный пробег и срок до планового ремонта.\n",
    "В регламентах РЖД используется следующее правило - если ресурс по пробегу не превышает 500 км и/или плановый ремонт должен наступить через 15 дней(или меньше), то вагон может ехать только на ВРП.\n",
    "Из этого регламента вытекают две особенности:\n",
    "1. Диспетчер старается отправить вагон раньше положенных значений. Это позволяет выбрать предприятия, на которых ремонтироваться дешевле, а не ближайшее.\n",
    "2. Компания-оператор может выбирать какому из нормативов нужно следовать - ремонтировать вагон по сроку, или по пробегу, или по обоим критериям сразу. Поэтому встречаются вагоны, у которых пробег может не отслеживаться.\n",
    "\n",
    "Вагон может быть отправлен в плановый ремонт и раньше положенного. На это может влиять, например, история грузовых операций и количество текущих(мелких) ремонтов. Основная цель участников в данной задаче - найти закономерности и оценить значимые признаки, по которым вагон выбывает в плановый ремонт."
   ]
  },
  {
   "cell_type": "markdown",
   "metadata": {},
   "source": [
    "## Подготовка данных"
   ]
  },
  {
   "cell_type": "code",
   "execution_count": null,
   "metadata": {
    "pycharm": {
     "name": "#%%\n"
    }
   },
   "outputs": [],
   "source": [
    "# оставим только данные по остаточному пробегу для каждого номерав вагона\n",
    "wag_prob = wag_prob[(wag_prob.repdate == month_to_predict) | (wag_prob.repdate == wag_prob.repdate.min())]"
   ]
  },
  {
   "cell_type": "code",
   "execution_count": null,
   "metadata": {
    "pycharm": {
     "name": "#%%\n"
    }
   },
   "outputs": [],
   "source": [
    "# оценим среднесуточный пробег из данных по пробегу вагона, на тот случай, если данных по нормативу нет\n",
    "wag_prob_ =wag_prob.groupby('wagnum', as_index = False).agg({'repdate':['max', 'min'] , 'ost_prob': ['max','min']},)#.droplevel(1)\n",
    "wag_prob_.columns = [head+'_' + name\n",
    "                     if head!='wagnum'\n",
    "                     else head\n",
    "                     for head, name in wag_prob_.columns ]\n",
    "\n",
    "wag_prob_['diff_days'] = wag_prob_.repdate_max - wag_prob_.repdate_min\n",
    "wag_prob_['mean_run'] = (wag_prob_.ost_prob_max - wag_prob_.ost_prob_min )/ wag_prob_.diff_days.dt.days\n",
    "wag_prob = wag_prob[wag_prob.repdate == wag_prob.repdate.max()][['wagnum','ost_prob']]\n",
    "wag_prob = wag_prob.merge(wag_prob_[['wagnum','mean_run']])"
   ]
  },
  {
   "cell_type": "code",
   "execution_count": null,
   "metadata": {
    "pycharm": {
     "name": "#%%\n"
    }
   },
   "outputs": [],
   "source": [
    "# для каждого вагона оставим только информацию по сроку службы и нормативу суточного пробега между ПР\n",
    "wag_param = wag_param[['wagnum','srok_sl','cnsi_probeg_dr','cnsi_probeg_kr']]"
   ]
  },
  {
   "cell_type": "code",
   "execution_count": null,
   "metadata": {
    "pycharm": {
     "name": "#%%\n"
    }
   },
   "outputs": [],
   "source": [
    "# добавим признак, что вагон был в ПР в предыдущем месяце. Скорее всего, если вагон был в ПР недавно, то повторно он не поедет\n",
    "pr_rem['was_repair_in_prev_month'] = 1\n",
    "pr_rem = pr_rem[['wagnum','was_repair_in_prev_month']]\n",
    "pr_rem = pr_rem.drop_duplicates(subset='wagnum') #некоторые вагоны все же ремонтируются больше 1 раза, поэтому нужен сбросить дубли"
   ]
  },
  {
   "cell_type": "code",
   "execution_count": null,
   "metadata": {
    "pycharm": {
     "name": "#%%\n"
    }
   },
   "outputs": [],
   "source": [
    "# посчитаем сколько текущих ремонтов было за прошедший период\n",
    "tr_rem = tr_rem.groupby('wagnum', as_index= False).kod_vrab.count()"
   ]
  },
  {
   "cell_type": "code",
   "execution_count": null,
   "metadata": {
    "pycharm": {
     "name": "#%%\n"
    }
   },
   "outputs": [],
   "source": [
    "# сохраним только дату следующего планового ремонта для вагона\n",
    "dislok = dislok[['wagnum','date_pl_rem']].drop_duplicates(subset = 'wagnum', keep='last')"
   ]
  },
  {
   "cell_type": "code",
   "execution_count": null,
   "metadata": {
    "pycharm": {
     "name": "#%%\n"
    }
   },
   "outputs": [],
   "source": [
    "# соберем все данные вместе\n",
    "wp = target[['wagnum']].merge(wag_param, on ='wagnum', how = 'left')\\\n",
    "             .merge(wag_prob, how = 'left')\\\n",
    "             .merge(pr_rem, how = 'left')\\\n",
    "             .merge(tr_rem, how = 'left')\\\n",
    "             .merge(dislok, how = 'left')"
   ]
  },
  {
   "cell_type": "code",
   "execution_count": null,
   "metadata": {
    "pycharm": {
     "name": "#%%\n"
    }
   },
   "outputs": [],
   "source": [
    "wp.head()"
   ]
  },
  {
   "cell_type": "code",
   "execution_count": null,
   "metadata": {
    "pycharm": {
     "name": "#%%\n"
    }
   },
   "outputs": [],
   "source": [
    "# Получим среднесуточный пробег, как среднее от нормативов и реального пробега\n",
    "wp[['cnsi_probeg_dr','cnsi_probeg_kr','mean_run']] = wp[['cnsi_probeg_dr','cnsi_probeg_kr','mean_run']].fillna(0)\n",
    "wp['day_run'] = wp.apply(lambda x : [ val  for val in [x.cnsi_probeg_kr, x.cnsi_probeg_dr, x.mean_run] if val != 0], axis = 1 )\n",
    "wp['day_run']= wp.apply(lambda x : np.mean(x.day_run) if len(x.day_run)> 0 else 0, axis = 1 )"
   ]
  },
  {
   "cell_type": "code",
   "execution_count": null,
   "metadata": {
    "pycharm": {
     "name": "#%%\n"
    }
   },
   "outputs": [],
   "source": [
    "wp['current_date'] = month_to_predict"
   ]
  },
  {
   "cell_type": "code",
   "execution_count": null,
   "metadata": {
    "pycharm": {
     "name": "#%%\n"
    }
   },
   "outputs": [],
   "source": [
    "# определим, сколько дней осталось до истечения срока службы\n",
    "wp['date_diff_srk_sl'] = wp['srok_sl']- wp['current_date']"
   ]
  },
  {
   "cell_type": "code",
   "execution_count": null,
   "metadata": {
    "pycharm": {
     "name": "#%%\n"
    }
   },
   "outputs": [],
   "source": [
    "# определим, сколько дней осталось до ближайшего ПР\n",
    "wp['date_diff_pl_rem'] = wp['date_pl_rem']- wp['current_date']"
   ]
  },
  {
   "cell_type": "code",
   "execution_count": null,
   "metadata": {
    "pycharm": {
     "name": "#%%\n"
    }
   },
   "outputs": [],
   "source": [
    "# определим, какой остаточный ресурс будет на момент окончания месяца\n",
    "wp['prob_end_month'] = wp['ost_prob'] - wp['day_run']* 30"
   ]
  },
  {
   "cell_type": "code",
   "execution_count": null,
   "metadata": {
    "pycharm": {
     "name": "#%%\n"
    }
   },
   "outputs": [],
   "source": [
    "wp['target_month'] = 0"
   ]
  },
  {
   "cell_type": "code",
   "execution_count": null,
   "metadata": {
    "pycharm": {
     "name": "#%%\n"
    }
   },
   "outputs": [],
   "source": [
    "# вагон выбывает в ПР в следующем месяце, если:\n",
    "# остаточный пробег < 5 000 км\n",
    "# срок службы < 500 лней\n",
    "# до следующего  ПР < 40 дней\n",
    "# ,число текущих ремонтов > 5\n",
    "wp.loc[(wp.prob_end_month <= 5000) \\\n",
    "       | (wp.date_diff_srk_sl < pd.to_timedelta(40))\\\n",
    "        | (wp.date_diff_pl_rem < pd.to_timedelta(10)) \\\n",
    "        | (wp.kod_vrab > 5),'target_month'] = 1"
   ]
  },
  {
   "cell_type": "code",
   "execution_count": null,
   "metadata": {
    "pycharm": {
     "name": "#%%\n"
    }
   },
   "outputs": [],
   "source": [
    "wp['target_day'] = wp['target_month']"
   ]
  },
  {
   "cell_type": "code",
   "execution_count": null,
   "metadata": {
    "pycharm": {
     "name": "#%%\n"
    }
   },
   "outputs": [],
   "source": [
    "pred_target = target[['wagnum']].merge(wp[['wagnum','target_month','target_day']],how = 'left')\n",
    "pred_target = pred_target.drop_duplicates(subset = 'wagnum')"
   ]
  },
  {
   "cell_type": "code",
   "execution_count": null,
   "metadata": {
    "pycharm": {
     "name": "#%%\n"
    }
   },
   "outputs": [],
   "source": [
    "# Проверим соотношение отмеченных вагонов с фактическим значением\n",
    "round(pred_target.target_month.sum() / target.target_month.sum(), 2)"
   ]
  },
  {
   "cell_type": "code",
   "execution_count": null,
   "metadata": {
    "pycharm": {
     "name": "#%%\n"
    }
   },
   "outputs": [],
   "source": [
    "# сохраним таргет за месяц  для выбранного периода отдельно\n",
    "target_path = r'../data/train_1/prediction/target_predicton.csv'"
   ]
  },
  {
   "cell_type": "code",
   "execution_count": null,
   "metadata": {
    "pycharm": {
     "name": "#%%\n"
    }
   },
   "outputs": [],
   "source": [
    "pred_target.drop_duplicates(subset = 'wagnum').to_csv(target_path, index=False)"
   ]
  },
  {
   "cell_type": "code",
   "execution_count": null,
   "metadata": {
    "pycharm": {
     "name": "#%%\n"
    }
   },
   "outputs": [],
   "source": [
    "# путь к файлу с истинными значениями целевой переменной\n",
    "true_target_path = '../data/train_1/prediction/target_predicton_true.csv'"
   ]
  },
  {
   "cell_type": "code",
   "execution_count": null,
   "metadata": {
    "pycharm": {
     "name": "#%%\n"
    }
   },
   "outputs": [],
   "source": [
    "target.drop_duplicates(subset = 'wagnum').to_csv(true_target_path, index=False)"
   ]
  },
  {
   "cell_type": "code",
   "execution_count": null,
   "metadata": {
    "pycharm": {
     "name": "#%%\n"
    }
   },
   "outputs": [],
   "source": [
    "# оценим насколько хорошо удалось предсказать выбытие вагонов  по месяцу и по 10 дням\n",
    "calc_f1_score(true_target_path, target_path,)"
   ]
  }
 ],
 "metadata": {
  "kernelspec": {
   "display_name": "Python 3",
   "language": "python",
   "name": "python3"
  },
  "language_info": {
   "codemirror_mode": {
    "name": "ipython",
    "version": 3
   },
   "file_extension": ".py",
   "mimetype": "text/x-python",
   "name": "python",
   "nbconvert_exporter": "python",
   "pygments_lexer": "ipython3",
   "version": "3.8.5"
  },
  "toc": {
   "base_numbering": 1,
   "nav_menu": {
    "height": "48px",
    "width": "185px"
   },
   "number_sections": true,
   "sideBar": true,
   "skip_h1_title": true,
   "title_cell": "Table of Contents",
   "title_sidebar": "Contents",
   "toc_cell": false,
   "toc_position": {},
   "toc_section_display": true,
   "toc_window_display": true
  },
  "varInspector": {
   "cols": {
    "lenName": 16,
    "lenType": 16,
    "lenVar": 40
   },
   "kernels_config": {
    "python": {
     "delete_cmd_postfix": "",
     "delete_cmd_prefix": "del ",
     "library": "var_list.py",
     "varRefreshCmd": "print(var_dic_list())"
    },
    "r": {
     "delete_cmd_postfix": ") ",
     "delete_cmd_prefix": "rm(",
     "library": "var_list.r",
     "varRefreshCmd": "cat(var_dic_list()) "
    }
   },
   "types_to_exclude": [
    "module",
    "function",
    "builtin_function_or_method",
    "instance",
    "_Feature"
   ],
   "window_display": false
  }
 },
 "nbformat": 4,
 "nbformat_minor": 1
}
